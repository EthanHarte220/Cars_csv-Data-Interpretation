{
 "cells": [
  {
   "cell_type": "code",
   "execution_count": 1,
   "id": "9648665c",
   "metadata": {},
   "outputs": [],
   "source": [
    "import pandas as pd\n",
    "import numpy as np\n",
    "import matplotlib.pyplot as plt\n",
    "import seaborn as sns\n",
    "from matplotlib import rcParams"
   ]
  },
  {
   "cell_type": "code",
   "execution_count": 2,
   "id": "89afb1ef",
   "metadata": {
    "scrolled": true
   },
   "outputs": [
    {
     "data": {
      "text/html": [
       "<div>\n",
       "<style scoped>\n",
       "    .dataframe tbody tr th:only-of-type {\n",
       "        vertical-align: middle;\n",
       "    }\n",
       "\n",
       "    .dataframe tbody tr th {\n",
       "        vertical-align: top;\n",
       "    }\n",
       "\n",
       "    .dataframe thead th {\n",
       "        text-align: right;\n",
       "    }\n",
       "</style>\n",
       "<table border=\"1\" class=\"dataframe\">\n",
       "  <thead>\n",
       "    <tr style=\"text-align: right;\">\n",
       "      <th></th>\n",
       "      <th>make</th>\n",
       "      <th>model</th>\n",
       "      <th>mpg</th>\n",
       "      <th>cyl</th>\n",
       "      <th>disp</th>\n",
       "      <th>hp</th>\n",
       "      <th>drat</th>\n",
       "      <th>wt</th>\n",
       "      <th>qsec</th>\n",
       "      <th>vs</th>\n",
       "      <th>am</th>\n",
       "      <th>gear</th>\n",
       "      <th>carb</th>\n",
       "    </tr>\n",
       "  </thead>\n",
       "  <tbody>\n",
       "    <tr>\n",
       "      <th>0</th>\n",
       "      <td>Mazda</td>\n",
       "      <td>Mazda RX4</td>\n",
       "      <td>21.0</td>\n",
       "      <td>6</td>\n",
       "      <td>160.0</td>\n",
       "      <td>110</td>\n",
       "      <td>3.90</td>\n",
       "      <td>2.620</td>\n",
       "      <td>16.46</td>\n",
       "      <td>0</td>\n",
       "      <td>1</td>\n",
       "      <td>4</td>\n",
       "      <td>4</td>\n",
       "    </tr>\n",
       "    <tr>\n",
       "      <th>1</th>\n",
       "      <td>Mazda</td>\n",
       "      <td>Mazda RX4 Wag</td>\n",
       "      <td>21.0</td>\n",
       "      <td>6</td>\n",
       "      <td>160.0</td>\n",
       "      <td>110</td>\n",
       "      <td>3.90</td>\n",
       "      <td>2.875</td>\n",
       "      <td>17.02</td>\n",
       "      <td>0</td>\n",
       "      <td>1</td>\n",
       "      <td>4</td>\n",
       "      <td>4</td>\n",
       "    </tr>\n",
       "    <tr>\n",
       "      <th>2</th>\n",
       "      <td>Datsun</td>\n",
       "      <td>Datsun 710</td>\n",
       "      <td>22.8</td>\n",
       "      <td>4</td>\n",
       "      <td>108.0</td>\n",
       "      <td>93</td>\n",
       "      <td>3.85</td>\n",
       "      <td>2.320</td>\n",
       "      <td>18.61</td>\n",
       "      <td>1</td>\n",
       "      <td>1</td>\n",
       "      <td>4</td>\n",
       "      <td>1</td>\n",
       "    </tr>\n",
       "    <tr>\n",
       "      <th>3</th>\n",
       "      <td>Hornet</td>\n",
       "      <td>Hornet 4 Drive</td>\n",
       "      <td>21.4</td>\n",
       "      <td>6</td>\n",
       "      <td>258.0</td>\n",
       "      <td>110</td>\n",
       "      <td>3.08</td>\n",
       "      <td>3.215</td>\n",
       "      <td>19.44</td>\n",
       "      <td>1</td>\n",
       "      <td>0</td>\n",
       "      <td>3</td>\n",
       "      <td>1</td>\n",
       "    </tr>\n",
       "    <tr>\n",
       "      <th>4</th>\n",
       "      <td>Hornet</td>\n",
       "      <td>Hornet Sportabout</td>\n",
       "      <td>18.7</td>\n",
       "      <td>8</td>\n",
       "      <td>360.0</td>\n",
       "      <td>175</td>\n",
       "      <td>3.15</td>\n",
       "      <td>3.440</td>\n",
       "      <td>17.02</td>\n",
       "      <td>0</td>\n",
       "      <td>0</td>\n",
       "      <td>3</td>\n",
       "      <td>2</td>\n",
       "    </tr>\n",
       "  </tbody>\n",
       "</table>\n",
       "</div>"
      ],
      "text/plain": [
       "     make              model   mpg  cyl   disp   hp  drat     wt   qsec  vs  \\\n",
       "0   Mazda          Mazda RX4  21.0    6  160.0  110  3.90  2.620  16.46   0   \n",
       "1   Mazda      Mazda RX4 Wag  21.0    6  160.0  110  3.90  2.875  17.02   0   \n",
       "2  Datsun         Datsun 710  22.8    4  108.0   93  3.85  2.320  18.61   1   \n",
       "3  Hornet     Hornet 4 Drive  21.4    6  258.0  110  3.08  3.215  19.44   1   \n",
       "4  Hornet  Hornet Sportabout  18.7    8  360.0  175  3.15  3.440  17.02   0   \n",
       "\n",
       "   am  gear  carb  \n",
       "0   1     4     4  \n",
       "1   1     4     4  \n",
       "2   1     4     1  \n",
       "3   0     3     1  \n",
       "4   0     3     2  "
      ]
     },
     "execution_count": 2,
     "metadata": {},
     "output_type": "execute_result"
    }
   ],
   "source": [
    "cars_df = pd.read_csv(filepath_or_buffer='cars.csv')\n",
    "cars_df.head()"
   ]
  },
  {
   "cell_type": "code",
   "execution_count": 3,
   "id": "9aec0d20",
   "metadata": {},
   "outputs": [
    {
     "name": "stdout",
     "output_type": "stream",
     "text": [
      "[21.  21.  22.8 21.4 18.7 18.1 14.3 24.4 22.8 19.2 17.8 16.4 17.3 15.2\n",
      " 10.4 10.4 14.7 32.4 30.4 33.9 21.5 15.5 15.2 13.3 19.2 27.3 26.  30.4\n",
      " 15.8 19.7 15.  21.4]\n"
     ]
    }
   ],
   "source": [
    "numpy_mpg = np.array(cars_df['mpg'])\n",
    "print(numpy_mpg)"
   ]
  },
  {
   "cell_type": "code",
   "execution_count": 4,
   "id": "113a887a",
   "metadata": {},
   "outputs": [
    {
     "data": {
      "text/plain": [
       "5"
      ]
     },
     "execution_count": 4,
     "metadata": {},
     "output_type": "execute_result"
    }
   ],
   "source": [
    "np.count_nonzero(numpy_mpg < 15)"
   ]
  },
  {
   "cell_type": "code",
   "execution_count": 5,
   "id": "d227f0a3",
   "metadata": {
    "scrolled": true
   },
   "outputs": [
    {
     "name": "stdout",
     "output_type": "stream",
     "text": [
      "6              Duster 360\n",
      "14     Cadillac Fleetwood\n",
      "15    Lincoln Continental\n",
      "16      Chrysler Imperial\n",
      "23             Camaro Z28\n",
      "Name: model, dtype: object\n"
     ]
    }
   ],
   "source": [
    "print(cars_df.loc[cars_df['mpg'] < 15, 'model'])"
   ]
  },
  {
   "cell_type": "code",
   "execution_count": 6,
   "id": "a37f4060",
   "metadata": {
    "scrolled": true
   },
   "outputs": [
    {
     "name": "stdout",
     "output_type": "stream",
     "text": [
      "22\n",
      "['AMC' 'Cadillac' 'Camaro' 'Chrysler' 'Datsun' 'Dodge' 'Duster' 'Ferrari'\n",
      " 'Fiat' 'Ford' 'Honda' 'Hornet' 'Lincoln' 'Lotus' 'Maserati' 'Mazda'\n",
      " 'Merc' 'Pontiac' 'Porsche' 'Toyota' 'Valiant' 'Volvo']\n"
     ]
    }
   ],
   "source": [
    "print(np.unique(cars_df['make']).size)\n",
    "print(np.unique(cars_df['make']))"
   ]
  },
  {
   "cell_type": "code",
   "execution_count": 7,
   "id": "8dc48950",
   "metadata": {},
   "outputs": [
    {
     "data": {
      "text/plain": [
       "make\n",
       "Merc        7\n",
       "Mazda       2\n",
       "Fiat        2\n",
       "Toyota      2\n",
       "Hornet      2\n",
       "Duster      1\n",
       "Camaro      1\n",
       "Maserati    1\n",
       "Ferrari     1\n",
       "Ford        1\n",
       "Lotus       1\n",
       "Porsche     1\n",
       "Pontiac     1\n",
       "AMC         1\n",
       "Valiant     1\n",
       "Dodge       1\n",
       "Datsun      1\n",
       "Honda       1\n",
       "Chrysler    1\n",
       "Lincoln     1\n",
       "Cadillac    1\n",
       "Volvo       1\n",
       "Name: count, dtype: int64"
      ]
     },
     "execution_count": 7,
     "metadata": {},
     "output_type": "execute_result"
    }
   ],
   "source": [
    "cars_df['make'].value_counts()"
   ]
  },
  {
   "cell_type": "code",
   "execution_count": 8,
   "id": "75fbacdd",
   "metadata": {},
   "outputs": [
    {
     "data": {
      "image/png": "[encoded data removed]",
      "text/plain": [
       "<Figure size 640x480 with 1 Axes>"
      ]
     },
     "metadata": {},
     "output_type": "display_data"
    }
   ],
   "source": [
    "sns.set_style('darkgrid')\n",
    "\n",
    "plt.scatter(x=cars_df['hp'], y=cars_df['mpg'])\n",
    "plt.xlabel('hp')\n",
    "plt.ylabel('mpg')\n",
    "plt.title('hp vs. mpg')\n",
    "\n",
    "plt.show()"
   ]
  },
  {
   "cell_type": "code",
   "execution_count": 9,
   "id": "2ec40e1d",
   "metadata": {},
   "outputs": [
    {
     "name": "stdout",
     "output_type": "stream",
     "text": [
      "Theta_0: 30.0988605396225\n",
      "Theta_1: -0.06822827807156365\n"
     ]
    }
   ],
   "source": [
    "X = np.array(cars_df['hp'])\n",
    "Y = np.array(cars_df['mpg'])\n",
    "\n",
    "X = X.reshape((len(X), 1))\n",
    "Y = Y.reshape((len(Y), 1))\n",
    "\n",
    "Xa = np.column_stack((np.ones_like(X), X))\n",
    "\n",
    "theta = np.linalg.inv(Xa.T @ Xa) @ Xa.T @ Y\n",
    "\n",
    "theta_0 = theta[0][0]\n",
    "theta_1 = theta[1][0]\n",
    "\n",
    "print(f\"Theta_0: {theta_0}\")\n",
    "print(f\"Theta_1: {theta_1}\")"
   ]
  },
  {
   "cell_type": "code",
   "execution_count": 10,
   "id": "fcba9108",
   "metadata": {},
   "outputs": [
    {
     "data": {
      "image/png": "[encoded data removed]",
      "text/plain": [
       "<Figure size 640x480 with 1 Axes>"
      ]
     },
     "metadata": {},
     "output_type": "display_data"
    }
   ],
   "source": [
    "Xspace = np.linspace(30, 350)\n",
    "\n",
    "plt.scatter(x=cars_df['hp'], y=cars_df['mpg'])\n",
    "\n",
    "plt.xlabel('hp')\n",
    "plt.ylabel('mpg')\n",
    "plt.axis([30, 350, 5, 35])\n",
    "plt.title('hp vs. mpg')\n",
    "\n",
    "plt.plot(Xspace, Xspace * theta_1 + theta_0, color=\"red\")\n",
    "\n",
    "plt.show()"
   ]
  },
  {
   "cell_type": "code",
   "execution_count": 11,
   "id": "7bbf7bb9",
   "metadata": {},
   "outputs": [
    {
     "data": {
      "text/plain": [
       "<matplotlib.collections.PathCollection at 0x17507313040>"
      ]
     },
     "execution_count": 11,
     "metadata": {},
     "output_type": "execute_result"
    },
    {
     "data": {
      "image/png": "[encoded data removed]",
      "text/plain": [
       "<Figure size 640x480 with 1 Axes>"
      ]
     },
     "metadata": {},
     "output_type": "display_data"
    }
   ],
   "source": [
    "Random_X_index = np.random.choice(len(X), size = 3, replace = False)\n",
    "Random_X = X[Random_X_index]\n",
    "\n",
    "plt.xlabel('hp')\n",
    "plt.ylabel('mpg')\n",
    "plt.axis([30, 350, 5, 35])\n",
    "plt.title('hp vs. mpg')\n",
    "\n",
    "plt.scatter(Random_X, Random_X * theta_1 + theta_0, color=\"red\") #Predicted\n",
    "plt.scatter(Random_X, Y[Random_X_index], color=\"blue\") #Actual"
   ]
  },
  {
   "cell_type": "code",
   "execution_count": 13,
   "id": "56b04f2a",
   "metadata": {},
   "outputs": [
    {
     "name": "stdout",
     "output_type": "stream",
     "text": [
      "R2 Score: 0.602437341423934\n",
      "The R2 score of 0.6024 suggests that there is a moderate correlation between the hp of a car and its mileage\n"
     ]
    }
   ],
   "source": [
    "predicted_mpg = Xa @ theta\n",
    "\n",
    "u_y = np.mean(Y)\n",
    "real_summation = np.sum((Y - u_y)**2)\n",
    "\n",
    "predicted_summation = np.sum((Y - predicted_mpg)**2)\n",
    "\n",
    "R2 = 1 - (predicted_summation / real_summation)\n",
    "\n",
    "print(f'R2 Score: {R2}')"
   ]
  }
 ],
 "metadata": {
  "kernelspec": {
   "display_name": "Python 3 (ipykernel)",
   "language": "python",
   "name": "python3"
  },
  "language_info": {
   "codemirror_mode": {
    "name": "ipython",
    "version": 3
   },
   "file_extension": ".py",
   "mimetype": "text/x-python",
   "name": "python",
   "nbconvert_exporter": "python",
   "pygments_lexer": "ipython3",
   "version": "3.10.9"
  }
 },
 "nbformat": 4,
 "nbformat_minor": 5
}
